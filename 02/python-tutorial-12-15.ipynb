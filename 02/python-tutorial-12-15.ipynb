{
 "cells": [
  {
   "cell_type": "code",
   "execution_count": 1,
   "id": "54db7592-5b1e-46f1-b64e-cce64d989003",
   "metadata": {},
   "outputs": [],
   "source": [
    "#Section 12:"
   ]
  },
  {
   "cell_type": "code",
   "execution_count": 2,
   "id": "6c759465-e36e-48b8-b42c-a9b80f0d6a47",
   "metadata": {},
   "outputs": [],
   "source": [
    "#Read text from a file"
   ]
  },
  {
   "cell_type": "code",
   "execution_count": 3,
   "id": "3993946c-60b9-498d-885d-0699c2889431",
   "metadata": {},
   "outputs": [],
   "source": [
    "#Write to a text file"
   ]
  },
  {
   "cell_type": "code",
   "execution_count": 4,
   "id": "2ce034dd-a30f-4db5-8b27-3322c4d98901",
   "metadata": {},
   "outputs": [],
   "source": [
    "#Create a new text file"
   ]
  },
  {
   "cell_type": "code",
   "execution_count": 5,
   "id": "08102ea9-88c8-4ea3-a181-a8966f357858",
   "metadata": {},
   "outputs": [],
   "source": [
    "#Check if a file exists"
   ]
  },
  {
   "cell_type": "code",
   "execution_count": 6,
   "id": "01ce8f69-4d54-4c77-85b3-ab568ab85c48",
   "metadata": {},
   "outputs": [],
   "source": [
    "#Read CSV files"
   ]
  },
  {
   "cell_type": "code",
   "execution_count": 7,
   "id": "8c95f1bd-45f5-471f-9c6c-a6551c18fcea",
   "metadata": {},
   "outputs": [],
   "source": [
    "#Write CSV files "
   ]
  },
  {
   "cell_type": "code",
   "execution_count": 8,
   "id": "d84ddda5-2755-4d6e-bc2c-9854a3e02495",
   "metadata": {},
   "outputs": [],
   "source": [
    "#Rename a file"
   ]
  },
  {
   "cell_type": "code",
   "execution_count": 9,
   "id": "23c21156-3a73-4dd7-bd9e-e4085a24f903",
   "metadata": {},
   "outputs": [],
   "source": [
    "#Delete a file"
   ]
  },
  {
   "cell_type": "code",
   "execution_count": 10,
   "id": "b3d98a4d-6a48-4540-8ab1-ea3c50be2139",
   "metadata": {},
   "outputs": [],
   "source": [
    "#Section 13:"
   ]
  },
  {
   "cell_type": "code",
   "execution_count": 11,
   "id": "cdb08c16-ea2d-4469-8434-e08c43b25b2e",
   "metadata": {},
   "outputs": [],
   "source": [
    "#Working with directories"
   ]
  },
  {
   "cell_type": "code",
   "execution_count": 12,
   "id": "afae4a13-fd3d-437f-b7a5-7f3433ef2626",
   "metadata": {},
   "outputs": [],
   "source": [
    "#List files in a Directory"
   ]
  },
  {
   "cell_type": "code",
   "execution_count": 13,
   "id": "bfec57c7-b109-4719-8166-6e1f094de488",
   "metadata": {},
   "outputs": [],
   "source": [
    "#Section 15:"
   ]
  },
  {
   "cell_type": "code",
   "execution_count": 14,
   "id": "7b9550ae-5d4a-400e-99f5-d625edd8c1b4",
   "metadata": {},
   "outputs": [],
   "source": [
    "#F-strings"
   ]
  },
  {
   "cell_type": "code",
   "execution_count": 15,
   "id": "9dce85de-845b-45c3-9d96-40a5c3e03a83",
   "metadata": {},
   "outputs": [],
   "source": [
    "#Raw strings"
   ]
  },
  {
   "cell_type": "code",
   "execution_count": null,
   "id": "4d978f5b-55dc-450f-ae69-2cb0bb5c24f0",
   "metadata": {},
   "outputs": [],
   "source": [
    "#Backslash"
   ]
  }
 ],
 "metadata": {
  "kernelspec": {
   "display_name": "Python 3 (ipykernel)",
   "language": "python",
   "name": "python3"
  },
  "language_info": {
   "codemirror_mode": {
    "name": "ipython",
    "version": 3
   },
   "file_extension": ".py",
   "mimetype": "text/x-python",
   "name": "python",
   "nbconvert_exporter": "python",
   "pygments_lexer": "ipython3",
   "version": "3.12.4"
  }
 },
 "nbformat": 4,
 "nbformat_minor": 5
}
