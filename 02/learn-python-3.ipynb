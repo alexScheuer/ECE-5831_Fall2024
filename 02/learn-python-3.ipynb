{
 "cells": [
  {
   "cell_type": "code",
   "execution_count": 104,
   "id": "6ddf0db1-7f30-4bb5-8d4c-033b5015c134",
   "metadata": {},
   "outputs": [],
   "source": [
    "#Lesson 1: Generators"
   ]
  },
  {
   "cell_type": "code",
   "execution_count": 105,
   "id": "b2717e8a-780d-45c3-bfcf-d992891641ec",
   "metadata": {},
   "outputs": [
    {
     "name": "stdout",
     "output_type": "stream",
     "text": [
      "And the next number is... 19!\n",
      "And the next number is... 32!\n",
      "And the next number is... 2!\n",
      "And the next number is... 37!\n",
      "And the next number is... 11!\n",
      "And the next number is... 20!\n",
      "And the next number is... 12!\n"
     ]
    }
   ],
   "source": [
    "import random\n",
    "\n",
    "def lottery():\n",
    "    # returns 6 numbers between 1 and 40\n",
    "    for i in range(6):\n",
    "        yield random.randint(1, 40)\n",
    "\n",
    "    # returns a 7th number between 1 and 15\n",
    "    yield random.randint(1, 15)\n",
    "\n",
    "for random_number in lottery():\n",
    "       print(\"And the next number is... %d!\" %(random_number))"
   ]
  },
  {
   "cell_type": "code",
   "execution_count": 106,
   "id": "76d8c2d0-7af1-4340-a3c5-670921dccdad",
   "metadata": {},
   "outputs": [
    {
     "name": "stdout",
     "output_type": "stream",
     "text": [
      "2 1\n"
     ]
    }
   ],
   "source": [
    "a = 1\n",
    "b = 2\n",
    "a, b = b, a\n",
    "print(a, b)"
   ]
  },
  {
   "cell_type": "code",
   "execution_count": 107,
   "id": "8eeede13-f435-427c-97c5-d385404accfb",
   "metadata": {},
   "outputs": [
    {
     "name": "stdout",
     "output_type": "stream",
     "text": [
      "Good, The fib function is a generator.\n",
      "1\n",
      "1\n",
      "2\n",
      "3\n",
      "5\n",
      "8\n",
      "13\n",
      "21\n",
      "34\n",
      "55\n"
     ]
    }
   ],
   "source": [
    "# Generator function to return the Fibonacci series\n",
    "def fib():\n",
    "    a, b = 1, 1  # The first two Fibonacci numbers are both 1\n",
    "    while True:\n",
    "        yield a  # Yield the current value of 'a'\n",
    "        a, b = b, a + b  # Simultaneously update 'a' and 'b'\n",
    "\n",
    "# Testing code\n",
    "import types\n",
    "if type(fib()) == types.GeneratorType:\n",
    "    print(\"Good, The fib function is a generator.\")\n",
    "\n",
    "    counter = 0\n",
    "    for n in fib():\n",
    "        print(n)\n",
    "        counter += 1\n",
    "        if counter == 10:  # Limit the output to the first 10 numbers\n",
    "            break"
   ]
  },
  {
   "cell_type": "code",
   "execution_count": 108,
   "id": "46dec93d-a5bd-42a2-a4fd-e1aeae56f2ab",
   "metadata": {},
   "outputs": [],
   "source": [
    "#Lesson 2: List Comprehensions"
   ]
  },
  {
   "cell_type": "code",
   "execution_count": 109,
   "id": "7dee1b50-7fee-48f1-95ee-a9603bab9d8e",
   "metadata": {},
   "outputs": [
    {
     "name": "stdout",
     "output_type": "stream",
     "text": [
      "['the', 'quick', 'brown', 'fox', 'jumps', 'over', 'the', 'lazy', 'dog']\n",
      "[5, 5, 3, 5, 4, 4, 3]\n"
     ]
    }
   ],
   "source": [
    "sentence = \"the quick brown fox jumps over the lazy dog\"\n",
    "words = sentence.split()\n",
    "word_lengths = []\n",
    "for word in words:\n",
    "      if word != \"the\":\n",
    "          word_lengths.append(len(word))\n",
    "print(words)\n",
    "print(word_lengths)"
   ]
  },
  {
   "cell_type": "code",
   "execution_count": 110,
   "id": "461996a2-a032-4d01-a60e-c68872ed8b92",
   "metadata": {},
   "outputs": [
    {
     "name": "stdout",
     "output_type": "stream",
     "text": [
      "['the', 'quick', 'brown', 'fox', 'jumps', 'over', 'the', 'lazy', 'dog']\n",
      "[5, 5, 3, 5, 4, 4, 3]\n"
     ]
    }
   ],
   "source": [
    "sentence = \"the quick brown fox jumps over the lazy dog\"\n",
    "words = sentence.split()\n",
    "word_lengths = [len(word) for word in words if word != \"the\"]\n",
    "print(words)\n",
    "print(word_lengths)"
   ]
  },
  {
   "cell_type": "code",
   "execution_count": 111,
   "id": "d0693989-26f2-4ba6-bbec-5da3142c4ef8",
   "metadata": {},
   "outputs": [
    {
     "name": "stdout",
     "output_type": "stream",
     "text": [
      "[34, 44, 68, 44, 12]\n"
     ]
    }
   ],
   "source": [
    "numbers = [34.6, -203.4, 44.9, 68.3, -12.2, 44.6, 12.7]\n",
    "\n",
    "# Using a list comprehension to create a new list of positive integers\n",
    "newlist = [int(num) for num in numbers if num > 0]\n",
    "\n",
    "# Print the resulting newlist\n",
    "print(newlist)\n"
   ]
  },
  {
   "cell_type": "code",
   "execution_count": 112,
   "id": "d461ded2-2453-4202-877c-9076b2fe7b62",
   "metadata": {},
   "outputs": [],
   "source": [
    "#Lesson 3: Lambda Functions"
   ]
  },
  {
   "cell_type": "code",
   "execution_count": 113,
   "id": "e37e86cf-207e-4467-89f3-e6327a7517c8",
   "metadata": {},
   "outputs": [
    {
     "name": "stdout",
     "output_type": "stream",
     "text": [
      "3\n"
     ]
    }
   ],
   "source": [
    "def sum(a,b):\n",
    "    return a + b\n",
    "\n",
    "a = 1\n",
    "b = 2\n",
    "c = sum(a,b)\n",
    "print(c)"
   ]
  },
  {
   "cell_type": "code",
   "execution_count": 114,
   "id": "d80b2a84-26b1-4571-9298-31ec42c90afd",
   "metadata": {},
   "outputs": [],
   "source": [
    "your_function_name = lambda inputs : output"
   ]
  },
  {
   "cell_type": "code",
   "execution_count": 115,
   "id": "b1ca5bbb-bedd-43d0-9113-5661c75999f4",
   "metadata": {},
   "outputs": [
    {
     "name": "stdout",
     "output_type": "stream",
     "text": [
      "3\n"
     ]
    }
   ],
   "source": [
    "a = 1\n",
    "b = 2\n",
    "sum = lambda x,y : x + y\n",
    "c = sum(a,b)\n",
    "print(c)"
   ]
  },
  {
   "cell_type": "code",
   "execution_count": 116,
   "id": "606a7e31-4136-48d1-a14c-8f985887dfa0",
   "metadata": {},
   "outputs": [
    {
     "name": "stdout",
     "output_type": "stream",
     "text": [
      "False\n",
      "False\n",
      "True\n",
      "True\n",
      "False\n",
      "True\n"
     ]
    }
   ],
   "source": [
    "l = [2, 4, 7, 3, 14, 19]\n",
    "\n",
    "# Lambda function to check if a number is odd\n",
    "# It returns True if the number is odd, otherwise False\n",
    "is_odd = lambda x: x % 2 != 0\n",
    "\n",
    "# Using a for loop to check each number in the list\n",
    "for i in l:\n",
    "    print(is_odd(i))"
   ]
  },
  {
   "cell_type": "code",
   "execution_count": 117,
   "id": "7b5a4f9d-4f09-4af7-8250-efb1b0f53b3d",
   "metadata": {},
   "outputs": [],
   "source": [
    "#Lesson 4: Multiple Function Arguments"
   ]
  },
  {
   "cell_type": "code",
   "execution_count": 118,
   "id": "0394f40f-beb9-43fa-819f-3f134646bd11",
   "metadata": {},
   "outputs": [],
   "source": [
    "def myfunction(first, second, third):\n",
    "    # do something with the 3 variables\n",
    "    ..."
   ]
  },
  {
   "cell_type": "code",
   "execution_count": 119,
   "id": "6cc5e266-524b-4a60-b063-ad8b0906071d",
   "metadata": {},
   "outputs": [],
   "source": [
    "def foo(first, second, third, *therest):\n",
    "    print(\"First: %s\" % first)\n",
    "    print(\"Second: %s\" % second)\n",
    "    print(\"Third: %s\" % third)\n",
    "    print(\"And all the rest... %s\" % list(therest))"
   ]
  },
  {
   "cell_type": "code",
   "execution_count": 120,
   "id": "03e9b4bf-e794-4088-b756-1ba7396f0924",
   "metadata": {},
   "outputs": [
    {
     "name": "stdout",
     "output_type": "stream",
     "text": [
      "First: 1\n",
      "Second: 2\n",
      "Third: 3\n",
      "And all the rest... [4, 5]\n"
     ]
    }
   ],
   "source": [
    "def foo(first, second, third, *therest):\n",
    "    print(\"First: %s\" %(first))\n",
    "    print(\"Second: %s\" %(second))\n",
    "    print(\"Third: %s\" %(third))\n",
    "    print(\"And all the rest... %s\" %(list(therest)))\n",
    "\n",
    "foo(1, 2, 3, 4, 5)"
   ]
  },
  {
   "cell_type": "code",
   "execution_count": 121,
   "id": "efa45912-dcc3-46ac-ba64-d7fbedd1e8fe",
   "metadata": {},
   "outputs": [
    {
     "name": "stdout",
     "output_type": "stream",
     "text": [
      "The sum is: 6\n",
      "Result: 1\n"
     ]
    }
   ],
   "source": [
    "def bar(first, second, third, **options):\n",
    "    if options.get(\"action\") == \"sum\":\n",
    "        print(\"The sum is: %d\" %(first + second + third))\n",
    "\n",
    "    if options.get(\"number\") == \"first\":\n",
    "        return first\n",
    "\n",
    "result = bar(1, 2, 3, action = \"sum\", number = \"first\")\n",
    "print(\"Result: %d\" %(result))"
   ]
  },
  {
   "cell_type": "code",
   "execution_count": 122,
   "id": "0878ca15-0c73-4307-b784-60ac6e228624",
   "metadata": {},
   "outputs": [
    {
     "name": "stdout",
     "output_type": "stream",
     "text": [
      "Good.\n",
      "Better.\n",
      "Great.\n",
      "Awesome!\n"
     ]
    }
   ],
   "source": [
    "# Edit the functions' prototypes and implementations\n",
    "\n",
    "# foo function: returns the number of extra arguments received\n",
    "def foo(a, b, c, *args):\n",
    "    return len(args)\n",
    "\n",
    "# bar function: returns True if 'magicnumber' keyword argument is 7, False otherwise\n",
    "def bar(a, b, c, **kwargs):\n",
    "    return kwargs.get('magicnumber') == 7\n",
    "\n",
    "\n",
    "# Test code\n",
    "if foo(1, 2, 3, 4) == 1:\n",
    "    print(\"Good.\")\n",
    "if foo(1, 2, 3, 4, 5) == 2:\n",
    "    print(\"Better.\")\n",
    "if bar(1, 2, 3, magicnumber=6) == False:\n",
    "    print(\"Great.\")\n",
    "if bar(1, 2, 3, magicnumber=7) == True:\n",
    "    print(\"Awesome!\")"
   ]
  },
  {
   "cell_type": "code",
   "execution_count": 123,
   "id": "f93d80eb-536a-4467-b291-3fc1798ecf44",
   "metadata": {},
   "outputs": [],
   "source": [
    "#Lesson 5: Regular Expressions"
   ]
  },
  {
   "cell_type": "code",
   "execution_count": 124,
   "id": "fd1e7848-ddc2-4f85-9655-3d45fc830b6f",
   "metadata": {},
   "outputs": [
    {
     "name": "stdout",
     "output_type": "stream",
     "text": [
      "<re.Match object; span=(35, 39), match='[on]'>\n",
      "None\n",
      "Pass\n",
      "Pass\n",
      "You failed to match wha.t.1an?ug{}ly@email.com\n"
     ]
    }
   ],
   "source": [
    "# Example: \n",
    "import re\n",
    "pattern = re.compile(r\"\\[(on|off)\\]\") # Slight optimization\n",
    "print(re.search(pattern, \"Mono: Playback 65 [75%] [-16.50dB] [on]\"))\n",
    "# Returns a Match object!\n",
    "print(re.search(pattern, \"Nada...:-(\"))\n",
    "# Doesn't return anything.\n",
    "# End Example\n",
    "\n",
    "# Exercise: make a regular expression that will match an email\n",
    "def test_email(your_pattern):\n",
    "    pattern = re.compile(your_pattern)\n",
    "    emails = [\"john@example.com\", \"python-list@python.org\", \"wha.t.1an?ug{}ly@email.com\"]\n",
    "    for email in emails:\n",
    "        if not re.match(pattern, email):\n",
    "            print(\"You failed to match %s\" % (email))\n",
    "        elif not your_pattern:\n",
    "            print(\"Forgot to enter a pattern!\")\n",
    "        else:\n",
    "            print(\"Pass\")\n",
    "\n",
    "# Pattern to match an email address\n",
    "pattern = r\"^[a-zA-Z0-9._%+-]+@[a-zA-Z0-9.-]+\\.[a-zA-Z]{2,}$\"\n",
    "\n",
    "test_email(pattern)"
   ]
  },
  {
   "cell_type": "code",
   "execution_count": 125,
   "id": "6dbb3919-d3b0-4278-bc48-68060b0bc0c2",
   "metadata": {},
   "outputs": [],
   "source": [
    "#Lesson 6: Exception Handling"
   ]
  },
  {
   "cell_type": "code",
   "execution_count": 126,
   "id": "e6748e91-f309-44bd-ac45-af11dd30307a",
   "metadata": {},
   "outputs": [
    {
     "ename": "SyntaxError",
     "evalue": "invalid syntax. Perhaps you forgot a comma? (4213873691.py, line 4)",
     "output_type": "error",
     "traceback": [
      "\u001b[1;36m  Cell \u001b[1;32mIn[126], line 4\u001b[1;36m\u001b[0m\n\u001b[1;33m    Traceback (most recent call last):\u001b[0m\n\u001b[1;37m               ^\u001b[0m\n\u001b[1;31mSyntaxError\u001b[0m\u001b[1;31m:\u001b[0m invalid syntax. Perhaps you forgot a comma?\n"
     ]
    }
   ],
   "source": [
    "print(a)\n",
    "\n",
    "#error\n",
    "Traceback (most recent call last):\n",
    "  File \"\", line 1, in \n",
    "NameError: name 'a' is not defined"
   ]
  },
  {
   "cell_type": "code",
   "execution_count": null,
   "id": "2185eb60-8539-4ab7-afe7-790a20f93617",
   "metadata": {},
   "outputs": [],
   "source": [
    "def do_stuff_with_number(n):\n",
    "    print(n)\n",
    "\n",
    "def catch_this():\n",
    "    the_list = (1, 2, 3, 4, 5)\n",
    "\n",
    "    for i in range(20):\n",
    "        try:\n",
    "            do_stuff_with_number(the_list[i])\n",
    "        except IndexError: # Raised when accessing a non-existing index of a list\n",
    "            do_stuff_with_number(0)\n",
    "\n",
    "catch_this()"
   ]
  },
  {
   "cell_type": "code",
   "execution_count": null,
   "id": "d7917b8c-0564-4d54-9f24-59ba52444fc1",
   "metadata": {},
   "outputs": [],
   "source": [
    "# Setup\n",
    "actor = {\"name\": \"John Cleese\", \"rank\": \"awesome\"}\n",
    "\n",
    "# Function to modify!!!\n",
    "def get_last_name(): \n",
    "    try:\n",
    "        # Try to split the name and get the last part\n",
    "        return actor[\"name\"].split()[-1]\n",
    "    except KeyError:\n",
    "        # Handle if \"name\" key is missing in the dictionary\n",
    "        return \"Name key missing!\"\n",
    "    except Exception as e:\n",
    "        # Handle any other unexpected exceptions\n",
    "        return f\"An error occurred: {str(e)}\"\n",
    "\n",
    "# Test code\n",
    "print(\"All exceptions caught! Good job!\")\n",
    "print(\"The actor's last name is %s\" % get_last_name())"
   ]
  },
  {
   "cell_type": "code",
   "execution_count": null,
   "id": "a41154a8-6b4a-4f50-a7d8-74e74e40d069",
   "metadata": {},
   "outputs": [],
   "source": [
    "#Lesson 7: Sets"
   ]
  },
  {
   "cell_type": "code",
   "execution_count": null,
   "id": "a3d1e5b3-35c6-44f6-88d4-0446c5746d77",
   "metadata": {},
   "outputs": [],
   "source": [
    "print(set(\"my name is Eric and Eric is my name\".split()))"
   ]
  },
  {
   "cell_type": "code",
   "execution_count": null,
   "id": "582c2230-c4a0-4966-92a9-d7cc31b10c27",
   "metadata": {},
   "outputs": [],
   "source": [
    "#Lea = set([\"Jake\", \"John\", \"Eric\"])\n",
    "print(a)\n",
    "b = set([\"John\", \"Jill\"])\n",
    "print(b)"
   ]
  },
  {
   "cell_type": "code",
   "execution_count": null,
   "id": "f4731471-e38b-4a44-8bf0-c1411641ab83",
   "metadata": {},
   "outputs": [],
   "source": [
    "a = set([\"Jake\", \"John\", \"Eric\"])\n",
    "b = set([\"John\", \"Jill\"])\n",
    "\n",
    "print(a.intersection(b))\n",
    "print(b.intersection(a))"
   ]
  },
  {
   "cell_type": "code",
   "execution_count": null,
   "id": "c66386b6-8c33-49a7-bb18-b4f2dd52fd47",
   "metadata": {},
   "outputs": [],
   "source": [
    "a = set([\"Jake\", \"John\", \"Eric\"])\n",
    "b = set([\"John\", \"Jill\"])\n",
    "\n",
    "print(a.symmetric_difference(b))\n",
    "print(b.symmetric_difference(a))"
   ]
  },
  {
   "cell_type": "code",
   "execution_count": null,
   "id": "8f995bde-6991-48ac-976e-2ac7d605921d",
   "metadata": {},
   "outputs": [],
   "source": [
    "a = set([\"Jake\", \"John\", \"Eric\"])\n",
    "b = set([\"John\", \"Jill\"])\n",
    "\n",
    "print(a.difference(b))\n",
    "print(b.difference(a))"
   ]
  },
  {
   "cell_type": "code",
   "execution_count": null,
   "id": "ed805094-8fbf-453f-b4e7-591c726727bf",
   "metadata": {},
   "outputs": [],
   "source": [
    "a = set([\"Jake\", \"John\", \"Eric\"])\n",
    "b = set([\"John\", \"Jill\"])\n",
    "\n",
    "print(a.union(b))"
   ]
  },
  {
   "cell_type": "code",
   "execution_count": null,
   "id": "46e34032-d77f-49b6-bfab-4383ffd2e302",
   "metadata": {},
   "outputs": [],
   "source": [
    "a = [\"Jake\", \"John\", \"Eric\"]\n",
    "b = [\"John\", \"Jill\"]\n",
    "\n",
    "# Convert lists to sets\n",
    "set_a = set(a)\n",
    "set_b = set(b)\n",
    "\n",
    "# Find participants in A who did not attend B\n",
    "participants_not_in_b = set_a - set_b\n",
    "\n",
    "# Print the result\n",
    "print(participants_not_in_b)"
   ]
  },
  {
   "cell_type": "code",
   "execution_count": null,
   "id": "60001a27-f580-4504-8c56-02b9586dcade",
   "metadata": {},
   "outputs": [],
   "source": [
    "#Lesson 8: Serialization"
   ]
  },
  {
   "cell_type": "code",
   "execution_count": null,
   "id": "f5b63afc-be49-44f0-97d6-1ba66de60666",
   "metadata": {},
   "outputs": [],
   "source": [
    "import json"
   ]
  },
  {
   "cell_type": "code",
   "execution_count": null,
   "id": "54223081-3873-45ca-9008-372464ad66d2",
   "metadata": {},
   "outputs": [],
   "source": [
    "import json \n",
    "print(json.loads(json_string))"
   ]
  },
  {
   "cell_type": "code",
   "execution_count": null,
   "id": "a3444cbf-f179-47a7-82c3-f522b45fe509",
   "metadata": {},
   "outputs": [],
   "source": [
    "import json\n",
    "json_string = json.dumps([1, 2, 3, \"a\", \"b\", \"c\"])\n",
    "print(json_string)"
   ]
  },
  {
   "cell_type": "code",
   "execution_count": null,
   "id": "bcbd79f4-a577-45df-a588-56e01de434c0",
   "metadata": {},
   "outputs": [],
   "source": [
    "import pickle\n",
    "pickled_string = pickle.dumps([1, 2, 3, \"a\", \"b\", \"c\"])\n",
    "print(pickle.loads(pickled_string))"
   ]
  },
  {
   "cell_type": "code",
   "execution_count": null,
   "id": "573bacbd-5e77-4bfd-9116-834047e4e5e8",
   "metadata": {},
   "outputs": [],
   "source": [
    "import json\n",
    "\n",
    "# Fix this function to add the given name and salary pair to salaries_json and return it\n",
    "def add_employee(salaries_json, name, salary):\n",
    "    # Load the JSON string into a Python dictionary\n",
    "    salaries_dict = json.loads(salaries_json)\n",
    "    \n",
    "    # Add the new name and salary to the dictionary\n",
    "    salaries_dict[name] = salary\n",
    "    \n",
    "    # Convert the updated dictionary back to a JSON string\n",
    "    updated_salaries_json = json.dumps(salaries_dict)\n",
    "    \n",
    "    return updated_salaries_json\n",
    "\n",
    "# Test code\n",
    "salaries = '{\"Alfred\" : 300, \"Jane\" : 400 }'\n",
    "new_salaries = add_employee(salaries, \"Me\", 800)\n",
    "decoded_salaries = json.loads(new_salaries)\n",
    "\n",
    "print(decoded_salaries[\"Alfred\"])  # Output: 300\n",
    "print(decoded_salaries[\"Jane\"])     # Output: 400\n",
    "print(decoded_salaries[\"Me\"])       # Output: 800"
   ]
  },
  {
   "cell_type": "code",
   "execution_count": null,
   "id": "47fd7e7e-a040-4c3f-ad1b-867ff1835638",
   "metadata": {},
   "outputs": [],
   "source": [
    "#Lesson 9: Partial Functions"
   ]
  },
  {
   "cell_type": "code",
   "execution_count": null,
   "id": "dffc4b6a-0890-41ef-ad8f-1b27a13675b1",
   "metadata": {},
   "outputs": [],
   "source": [
    "from functools import partial"
   ]
  },
  {
   "cell_type": "code",
   "execution_count": null,
   "id": "644fb495-b70a-43ec-a2f6-c3c1d81dc7cf",
   "metadata": {},
   "outputs": [],
   "source": [
    "from functools import partial\n",
    "\n",
    "def multiply(x, y):\n",
    "        return x * y\n",
    "\n",
    "# create a new function that multiplies by 2\n",
    "dbl = partial(multiply, 2)\n",
    "print(dbl(4))"
   ]
  },
  {
   "cell_type": "code",
   "execution_count": null,
   "id": "53797a19-4076-4b43-8bc2-7c04b5250450",
   "metadata": {},
   "outputs": [],
   "source": [
    "# Original function\n",
    "def func(u, v, w, x):\n",
    "    return u * 4 + v * 3 + w * 2 + x\n",
    "\n",
    "# Create a partial function by fixing u, v, and w\n",
    "partial_func = partial(func, 5, 10, 10)\n",
    "\n",
    "# Now, call the partial function with the calculated x\n",
    "result = partial_func(-10)\n",
    "\n",
    "# Print the result\n",
    "print(result)  # This should print 60"
   ]
  },
  {
   "cell_type": "code",
   "execution_count": null,
   "id": "409dfc46-06a2-46e6-a1e3-f0d7d1595936",
   "metadata": {},
   "outputs": [],
   "source": [
    "#Lesson 10: Code Introspection"
   ]
  },
  {
   "cell_type": "code",
   "execution_count": null,
   "id": "c304824a-a12b-4a4a-bd80-2de51fd6685f",
   "metadata": {},
   "outputs": [],
   "source": [
    "#help()\n",
    "dir() \n",
    "hasattr() \n",
    "id() \n",
    "type() \n",
    "repr() \n",
    "callable() \n",
    "issubclass() \n",
    "isinstance() \n",
    "__doc__ \n",
    "__name__"
   ]
  },
  {
   "cell_type": "code",
   "execution_count": null,
   "id": "71bf82f3-53a2-40d9-9947-9c30cb778175",
   "metadata": {},
   "outputs": [],
   "source": [
    "# Define the Vehicle class.\n",
    "class Vehicle:\n",
    "    name = \"\"\n",
    "    kind = \"car\"\n",
    "    color = \"\"\n",
    "    value = 100.00\n",
    "    \n",
    "    def description(self):\n",
    "        desc_str = \"%s is a %s %s worth $%.2f.\" % (self.name, self.color, self.kind, self.value)\n",
    "        return desc_str\n",
    "\n",
    "# Create an instance of Vehicle\n",
    "my_vehicle = Vehicle()\n",
    "\n",
    "# Print a list of all attributes of the Vehicle class\n",
    "# Using dir() to get all attributes, including built-in ones\n",
    "attributes = dir(Vehicle)\n",
    "\n",
    "# Using vars() to get attributes defined in the class\n",
    "attributes_dict = vars(Vehicle)\n",
    "\n",
    "# Print the results\n",
    "print(\"All attributes of the Vehicle class using dir():\")\n",
    "print(attributes)\n",
    "\n",
    "print(\"\\nAttributes defined in the Vehicle class using vars():\")\n",
    "print(attributes_dict)"
   ]
  },
  {
   "cell_type": "code",
   "execution_count": null,
   "id": "a1c17f2b-6642-4bb9-83c1-f03c50fca88a",
   "metadata": {},
   "outputs": [],
   "source": [
    "#Lesson 11: Closures"
   ]
  },
  {
   "cell_type": "code",
   "execution_count": null,
   "id": "4b7b532c-a553-4705-be57-74cea03a5725",
   "metadata": {},
   "outputs": [],
   "source": [
    "def transmit_to_space(message):\n",
    "    \"This is the enclosing function\"\n",
    "    def data_transmitter():\n",
    "        \"The nested function\"\n",
    "        print(message)\n",
    "\n",
    "    data_transmitter()\n",
    "\n",
    "print(transmit_to_space(\"Test message\"))"
   ]
  },
  {
   "cell_type": "code",
   "execution_count": null,
   "id": "4215dd10-0dae-4acf-9b3e-dfe7b3f92201",
   "metadata": {},
   "outputs": [],
   "source": [
    "def print_msg(number):\n",
    "    def printer():\n",
    "        \"Here we are using the nonlocal keyword\"\n",
    "        nonlocal number\n",
    "        number=3\n",
    "        print(number)\n",
    "    printer()\n",
    "    print(number)\n",
    "\n",
    "print_msg(9)"
   ]
  },
  {
   "cell_type": "code",
   "execution_count": null,
   "id": "c2520d2f-6f5b-4179-b3de-c8baa262f7e8",
   "metadata": {},
   "outputs": [],
   "source": [
    "def transmit_to_space(message):\n",
    "    \"This is the enclosing function\"\n",
    "    def data_transmitter():\n",
    "        \"The nested function\"\n",
    "        print(message)\n",
    "    return data_transmitter"
   ]
  },
  {
   "cell_type": "code",
   "execution_count": null,
   "id": "1a679186-fc91-4020-a956-8c33fd9d574c",
   "metadata": {},
   "outputs": [],
   "source": [
    "def transmit_to_space(message):\n",
    "  \"This is the enclosing function\"\n",
    "  def data_transmitter():\n",
    "      \"The nested function\"\n",
    "      print(message)\n",
    "  return data_transmitter\n",
    "\n",
    "fun2 = transmit_to_space(\"Burn the Sun!\")\n",
    "fun2()"
   ]
  },
  {
   "cell_type": "code",
   "execution_count": null,
   "id": "1c4678fa-f7d9-44f9-b174-6e98a8bf0700",
   "metadata": {},
   "outputs": [],
   "source": [
    "# Closure to create a multiplication function\n",
    "def multiplier_of(n):\n",
    "    # This inner function will use the multiplier n\n",
    "    def multiply(x):\n",
    "        return n * x\n",
    "    return multiply\n",
    "\n",
    "# Creating functions using the closure\n",
    "multiply_with_5 = multiplier_of(5)\n",
    "multiply_with_4 = multiplier_of(4)\n",
    "\n",
    "# Test the functions\n",
    "result1 = multiply_with_5(9)  # 5 * 9\n",
    "result2 = multiply_with_4(9)   # 4 * 9\n",
    "\n",
    "print(\"5 multiplied by 9:\", result1)  # Output: 45\n",
    "print(\"4 multiplied by 9:\", result2)  # Output: 36"
   ]
  },
  {
   "cell_type": "code",
   "execution_count": null,
   "id": "3ddc1dc6-4608-4ddf-8500-b079b3207f98",
   "metadata": {},
   "outputs": [],
   "source": [
    "#Lesson 12: Decorators"
   ]
  },
  {
   "cell_type": "code",
   "execution_count": null,
   "id": "0ac6b4c7-2edd-4098-9270-a85080883b27",
   "metadata": {},
   "outputs": [],
   "source": [
    "@decorator\n",
    "def functions(arg):\n",
    "    return \"value\""
   ]
  },
  {
   "cell_type": "code",
   "execution_count": null,
   "id": "99bd6541-1c7d-4f4b-9f0f-a944debdd66e",
   "metadata": {},
   "outputs": [],
   "source": [
    "def function(arg):\n",
    "    return \"value\"\n",
    "function = decorator(function) # this passes the function to the decorator, and reassigns it to the functions"
   ]
  },
  {
   "cell_type": "code",
   "execution_count": null,
   "id": "1082682f-5317-4961-bc39-cf66eadb3e05",
   "metadata": {},
   "outputs": [],
   "source": [
    "def repeater(old_function):\n",
    "    def new_function(*args, **kwds): # See learnpython.org/en/Multiple%20Function%20Arguments for how *args and **kwds works\n",
    "        old_function(*args, **kwds) # we run the old function\n",
    "        old_function(*args, **kwds) # we do it twice\n",
    "    return new_function # we have to return the new_function, or it wouldn't reassign it to the value"
   ]
  },
  {
   "cell_type": "code",
   "execution_count": null,
   "id": "89b0a507-88e2-40b1-b58f-9b8f0178e918",
   "metadata": {},
   "outputs": [],
   "source": [
    ">>> @repeater\n",
    "def multiply(num1, num2):\n",
    "    print(num1 * num2)\n",
    "\n",
    ">>> multiply(2, 3)\n",
    "6\n",
    "6"
   ]
  },
  {
   "cell_type": "code",
   "execution_count": null,
   "id": "0c62b0a0-8e98-4672-a470-ae36bbcab6fb",
   "metadata": {},
   "outputs": [],
   "source": [
    "def double_out(old_function):\n",
    "    def new_function(*args, **kwds):\n",
    "        return 2 * old_function(*args, **kwds) # modify the return value\n",
    "    return new_function"
   ]
  },
  {
   "cell_type": "code",
   "execution_count": null,
   "id": "52059bea-787c-4688-b443-91555c030cd9",
   "metadata": {},
   "outputs": [],
   "source": [
    "def double_Ii(old_function):\n",
    "    def new_function(arg): # only works if the old function has one argument\n",
    "        return old_function(arg * 2) # modify the argument passed\n",
    "    return new_function"
   ]
  },
  {
   "cell_type": "code",
   "execution_count": null,
   "id": "bbf82bbb-0a9c-41ff-8556-5fd6ad5dfc63",
   "metadata": {},
   "outputs": [],
   "source": [
    "def check(old_function):\n",
    "    def new_function(arg):\n",
    "        if arg < 0: raise (ValueError, \"Negative Argument\") # This causes an error, which is better than it doing the wrong thing\n",
    "        old_function(arg)\n",
    "    return new_function"
   ]
  },
  {
   "cell_type": "code",
   "execution_count": null,
   "id": "795cce54-f7a9-4ddc-adf4-a49812dc8b70",
   "metadata": {},
   "outputs": [],
   "source": [
    "def multiply(multiplier):\n",
    "    def multiply_generator(old_function):\n",
    "        def new_function(*args, **kwds):\n",
    "            return multiplier * old_function(*args, **kwds)\n",
    "        return new_function\n",
    "    return multiply_generator # it returns the new generator\n",
    "\n",
    "# Usage\n",
    "@multiply(3) # multiply is not a generator, but multiply(3) is\n",
    "def return_num(num):\n",
    "    return num\n",
    "\n",
    "# Now return_num is decorated and reassigned into itself\n",
    "return_num(5) # should return 15"
   ]
  },
  {
   "cell_type": "code",
   "execution_count": null,
   "id": "9055b736-da07-447d-afe5-7d29c8ee1739",
   "metadata": {},
   "outputs": [],
   "source": [
    "def type_check(correct_type):\n",
    "    def decorator(func):\n",
    "        def wrapper(arg):\n",
    "            if not isinstance(arg, correct_type):\n",
    "                print(\"Bad Type\")\n",
    "                return None  # or handle it however you want\n",
    "            return func(arg)\n",
    "        return wrapper\n",
    "    return decorator\n",
    "\n",
    "@type_check(int)\n",
    "def times2(num):\n",
    "    return num * 2\n",
    "\n",
    "# Testing the times2 function\n",
    "print(times2(2))            # Output: 4\n",
    "print(times2('Not A Number'))  # Output: Bad Type\n",
    "\n",
    "@type_check(str)\n",
    "def first_letter(word):\n",
    "    return word[0]\n",
    "\n",
    "# Testing the first_letter function\n",
    "print(first_letter('Hello World'))  # Output: H\n",
    "print(first_letter(['Not', 'A', 'String']))  # Output: Bad Type\n"
   ]
  },
  {
   "cell_type": "code",
   "execution_count": null,
   "id": "72e13610-f183-4dd5-9b9c-51c93dd14813",
   "metadata": {},
   "outputs": [],
   "source": [
    "#Lesson 13: Map, Filter, Reduce"
   ]
  },
  {
   "cell_type": "code",
   "execution_count": null,
   "id": "285181fc-482a-422f-8fa4-8b108b79d61c",
   "metadata": {},
   "outputs": [],
   "source": [
    "my_pets = ['alfred', 'tabitha', 'william', 'arla']\n",
    "uppered_pets = []\n",
    "\n",
    "for pet in my_pets:\n",
    "    pet_ = pet.upper()\n",
    "    uppered_pets.append(pet_)\n",
    "\n",
    "print(uppered_pets)"
   ]
  },
  {
   "cell_type": "code",
   "execution_count": null,
   "id": "ecc2a229-cadb-4706-b725-722f98c5b54d",
   "metadata": {},
   "outputs": [],
   "source": [
    "# Python 3\n",
    "my_pets = ['alfred', 'tabitha', 'william', 'arla']\n",
    "\n",
    "uppered_pets = list(map(str.upper, my_pets))\n",
    "\n",
    "print(uppered_pets)"
   ]
  },
  {
   "cell_type": "code",
   "execution_count": null,
   "id": "093739b5-3142-4976-9714-dd7e8f21eaa7",
   "metadata": {},
   "outputs": [],
   "source": [
    "# Python 3\n",
    "\n",
    "circle_areas = [3.56773, 5.57668, 4.00914, 56.24241, 9.01344, 32.00013]\n",
    "\n",
    "result = list(map(round, circle_areas, range(1, 7)))\n",
    "\n",
    "print(result)"
   ]
  },
  {
   "cell_type": "code",
   "execution_count": null,
   "id": "ac7efaa5-bb64-4db8-beda-9f2d56f2d76c",
   "metadata": {},
   "outputs": [],
   "source": [
    "# Python 3\n",
    "\n",
    "circle_areas = [3.56773, 5.57668, 4.00914, 56.24241, 9.01344, 32.00013]\n",
    "\n",
    "result = list(map(round, circle_areas, range(1, 3)))\n",
    "\n",
    "print(result)"
   ]
  },
  {
   "cell_type": "code",
   "execution_count": null,
   "id": "539172c6-9e77-4888-bffe-ff1b43179e61",
   "metadata": {},
   "outputs": [],
   "source": [
    "# Python 3\n",
    "\n",
    "my_strings = ['a', 'b', 'c', 'd', 'e']\n",
    "my_numbers = [1, 2, 3, 4, 5]\n",
    "\n",
    "results = list(zip(my_strings, my_numbers))\n",
    "\n",
    "print(results)"
   ]
  },
  {
   "cell_type": "code",
   "execution_count": null,
   "id": "af3e4085-c126-42da-b754-240fbac76b33",
   "metadata": {},
   "outputs": [],
   "source": [
    "# Python 3\n",
    "\n",
    "my_strings = ['a', 'b', 'c', 'd', 'e']\n",
    "my_numbers = [1, 2, 3, 4, 5]\n",
    "\n",
    "results = list(map(lambda x, y: (x, y), my_strings, my_numbers))\n",
    "\n",
    "print(results)"
   ]
  },
  {
   "cell_type": "code",
   "execution_count": null,
   "id": "c86eb2b0-c5a7-4833-b672-b0783fda59a1",
   "metadata": {},
   "outputs": [],
   "source": [
    "# Python 3\n",
    "scores = [66, 90, 68, 59, 76, 60, 88, 74, 81, 65]\n",
    "\n",
    "def is_A_student(score):\n",
    "    return score > 75\n",
    "\n",
    "over_75 = list(filter(is_A_student, scores))\n",
    "\n",
    "print(over_75)"
   ]
  },
  {
   "cell_type": "code",
   "execution_count": null,
   "id": "1b1f3675-91f4-48e4-9bdc-964b67241152",
   "metadata": {},
   "outputs": [],
   "source": [
    "# Python 3\n",
    "dromes = (\"demigod\", \"rewire\", \"madam\", \"freer\", \"anutforajaroftuna\", \"kiosk\")\n",
    "\n",
    "palindromes = list(filter(lambda word: word == word[::-1], dromes))\n",
    "\n",
    "print(palindromes)"
   ]
  },
  {
   "cell_type": "code",
   "execution_count": null,
   "id": "448dcce7-3eec-481a-8110-f70aad42fb4a",
   "metadata": {},
   "outputs": [],
   "source": [
    "# Python 3\n",
    "from functools import reduce\n",
    "\n",
    "numbers = [3, 4, 6, 9, 34, 12]\n",
    "\n",
    "def custom_sum(first, second):\n",
    "    return first + second\n",
    "\n",
    "result = reduce(custom_sum, numbers)\n",
    "print(result)"
   ]
  },
  {
   "cell_type": "code",
   "execution_count": null,
   "id": "fc1789d1-702a-4080-871e-6da8f7e8e6f9",
   "metadata": {},
   "outputs": [],
   "source": [
    "# Python 3\n",
    "from functools import reduce\n",
    "\n",
    "numbers = [3, 4, 6, 9, 34, 12]\n",
    "\n",
    "def custom_sum(first, second):\n",
    "    return first + second\n",
    "\n",
    "result = reduce(custom_sum, numbers, 10)\n",
    "print(result)"
   ]
  },
  {
   "cell_type": "code",
   "execution_count": null,
   "id": "52dd736b-679e-4f84-973b-fe7233be26d1",
   "metadata": {},
   "outputs": [],
   "source": [
    "from functools import reduce \n",
    "\n",
    "# Use map to print the square of each number rounded to three decimal places\n",
    "my_floats = [4.35, 6.09, 3.25, 9.77, 2.16, 8.88, 4.59]\n",
    "map_result = list(map(lambda x: round(x ** 2, 3), my_floats))\n",
    "\n",
    "# Use filter to print only the names that are less than or equal to seven letters\n",
    "my_names = [\"olumide\", \"akinremi\", \"josiah\", \"temidayo\", \"omoseun\"]\n",
    "filter_result = list(filter(lambda name: len(name) <= 7, my_names))\n",
    "\n",
    "# Use reduce to print the product of these numbers\n",
    "my_numbers = [4, 6, 9, 23, 5]\n",
    "reduce_result = reduce(lambda num1, num2: num1 * num2, my_numbers)\n",
    "\n",
    "# Print the results\n",
    "print(map_result)      # Output: Squared numbers rounded to 3 decimal places\n",
    "print(filter_result)   # Output: Names with 7 or fewer letters\n",
    "print(reduce_result)   # Output: Product of the numbers\n"
   ]
  },
  {
   "cell_type": "code",
   "execution_count": null,
   "id": "ca88774b-1d32-43de-ac5d-ace9de7da26a",
   "metadata": {},
   "outputs": [],
   "source": []
  }
 ],
 "metadata": {
  "kernelspec": {
   "display_name": "Python 3 (ipykernel)",
   "language": "python",
   "name": "python3"
  },
  "language_info": {
   "codemirror_mode": {
    "name": "ipython",
    "version": 3
   },
   "file_extension": ".py",
   "mimetype": "text/x-python",
   "name": "python",
   "nbconvert_exporter": "python",
   "pygments_lexer": "ipython3",
   "version": "3.12.4"
  }
 },
 "nbformat": 4,
 "nbformat_minor": 5
}
