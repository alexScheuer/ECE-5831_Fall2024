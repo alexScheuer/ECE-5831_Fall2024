{
 "cells": [
  {
   "cell_type": "code",
   "execution_count": null,
   "id": "ed7d5178-ca19-4964-8b9f-7ee65c295847",
   "metadata": {},
   "outputs": [],
   "source": [
    "#Python Syntax"
   ]
  },
  {
   "cell_type": "code",
   "execution_count": 4,
   "id": "c95b8215-429e-4517-91bc-aaaf49bacd1c",
   "metadata": {},
   "outputs": [
    {
     "name": "stdout",
     "output_type": "stream",
     "text": [
      "1\n",
      "2\n",
      "3\n",
      "4\n",
      "5\n",
      "6\n",
      "7\n",
      "8\n",
      "9\n"
     ]
    }
   ],
   "source": [
    "# define main function to print out something\n",
    "def main():\n",
    "    i = 1\n",
    "    max = 10\n",
    "    while (i < max):\n",
    "        print(i)\n",
    "        i = i + 1\n",
    "\n",
    "# call function main \n",
    "main()"
   ]
  },
  {
   "cell_type": "code",
   "execution_count": 5,
   "id": "51f4a78e-9325-45f4-8f08-800956d067fe",
   "metadata": {},
   "outputs": [],
   "source": [
    "# This is a single line comment in Python"
   ]
  },
  {
   "cell_type": "code",
   "execution_count": 6,
   "id": "37b0bec7-c757-4bfd-8406-334eb9197579",
   "metadata": {},
   "outputs": [
    {
     "ename": "NameError",
     "evalue": "name 'a' is not defined",
     "output_type": "error",
     "traceback": [
      "\u001b[1;31m---------------------------------------------------------------------------\u001b[0m",
      "\u001b[1;31mNameError\u001b[0m                                 Traceback (most recent call last)",
      "Cell \u001b[1;32mIn[6], line 1\u001b[0m\n\u001b[1;32m----> 1\u001b[0m \u001b[38;5;28;01mif\u001b[39;00m (a \u001b[38;5;241m==\u001b[39m \u001b[38;5;28;01mTrue\u001b[39;00m) \u001b[38;5;129;01mand\u001b[39;00m (b \u001b[38;5;241m==\u001b[39m \u001b[38;5;28;01mFalse\u001b[39;00m) \u001b[38;5;129;01mand\u001b[39;00m \\\n\u001b[0;32m      2\u001b[0m    (c \u001b[38;5;241m==\u001b[39m \u001b[38;5;28;01mTrue\u001b[39;00m):\n\u001b[0;32m      3\u001b[0m     \u001b[38;5;28mprint\u001b[39m(\u001b[38;5;124m\"\u001b[39m\u001b[38;5;124mContinuation of statements\u001b[39m\u001b[38;5;124m\"\u001b[39m)\n",
      "\u001b[1;31mNameError\u001b[0m: name 'a' is not defined"
     ]
    }
   ],
   "source": [
    "if (a == True) and (b == False) and \\\n",
    "   (c == True):\n",
    "    print(\"Continuation of statements\")"
   ]
  },
  {
   "cell_type": "code",
   "execution_count": 7,
   "id": "977961c8-9542-40ca-a306-8e429c314626",
   "metadata": {},
   "outputs": [
    {
     "name": "stdout",
     "output_type": "stream",
     "text": [
      "This is a string\n",
      "Another string using double quotes\n",
      " string can span\n",
      "        multiple line \n"
     ]
    }
   ],
   "source": [
    "s = 'This is a string'\n",
    "print(s)\n",
    "s = \"Another string using double quotes\"\n",
    "print(s)\n",
    "s = ''' string can span\n",
    "        multiple line '''\n",
    "print(s)"
   ]
  },
  {
   "cell_type": "code",
   "execution_count": 8,
   "id": "1bc198ff-24db-462c-9fd6-4f0dd510ae9b",
   "metadata": {},
   "outputs": [],
   "source": [
    "#Python Variables"
   ]
  },
  {
   "cell_type": "code",
   "execution_count": 9,
   "id": "20b2567e-3cac-4030-a0b9-cf6ec4dde0b6",
   "metadata": {},
   "outputs": [
    {
     "ename": "NameError",
     "evalue": "name 'value' is not defined",
     "output_type": "error",
     "traceback": [
      "\u001b[1;31m---------------------------------------------------------------------------\u001b[0m",
      "\u001b[1;31mNameError\u001b[0m                                 Traceback (most recent call last)",
      "Cell \u001b[1;32mIn[9], line 1\u001b[0m\n\u001b[1;32m----> 1\u001b[0m variable_name \u001b[38;5;241m=\u001b[39m value\n",
      "\u001b[1;31mNameError\u001b[0m: name 'value' is not defined"
     ]
    }
   ],
   "source": [
    "variable_name = value"
   ]
  },
  {
   "cell_type": "code",
   "execution_count": 10,
   "id": "39cf9c00-79bb-4711-a003-f014906c74ae",
   "metadata": {},
   "outputs": [],
   "source": [
    "#Python String"
   ]
  },
  {
   "cell_type": "code",
   "execution_count": 11,
   "id": "ff58cf5a-f9e9-4159-ad3d-69f502ed22c9",
   "metadata": {},
   "outputs": [],
   "source": [
    "#Python Numbers"
   ]
  },
  {
   "cell_type": "code",
   "execution_count": 12,
   "id": "f99533d5-1ae1-4686-86c7-1b5a4b3fa3f5",
   "metadata": {},
   "outputs": [],
   "source": [
    "#Python Boolean"
   ]
  },
  {
   "cell_type": "code",
   "execution_count": 13,
   "id": "8f03d7aa-dde8-41c7-93ef-df54f2a6d6a1",
   "metadata": {},
   "outputs": [],
   "source": [
    "#Python Consta#nts"
   ]
  },
  {
   "cell_type": "code",
   "execution_count": 14,
   "id": "38c18a21-b47d-4a8f-810a-2c4cf5c6284b",
   "metadata": {},
   "outputs": [],
   "source": [
    "#Python Comments"
   ]
  },
  {
   "cell_type": "code",
   "execution_count": 15,
   "id": "d3a2b4c7-9696-445b-a760-d438e92bbbff",
   "metadata": {},
   "outputs": [],
   "source": [
    "#Python Type Conversion"
   ]
  },
  {
   "cell_type": "code",
   "execution_count": 16,
   "id": "47667364-65ce-4f41-8ed8-9dc2025c3cd9",
   "metadata": {},
   "outputs": [],
   "source": [
    "#Section 2:"
   ]
  },
  {
   "cell_type": "code",
   "execution_count": 17,
   "id": "00f8e654-b161-4dbe-8bfc-d4f89cf54f76",
   "metadata": {},
   "outputs": [],
   "source": [
    "#Comparison Operators"
   ]
  },
  {
   "cell_type": "code",
   "execution_count": 18,
   "id": "916f245e-53b6-4f6c-a542-d847d6873413",
   "metadata": {},
   "outputs": [],
   "source": [
    "#Logical Operators"
   ]
  },
  {
   "cell_type": "code",
   "execution_count": 19,
   "id": "bdca7124-d5c2-48a0-874e-a4d3c3aae864",
   "metadata": {},
   "outputs": [],
   "source": [
    "#Section 3:"
   ]
  },
  {
   "cell_type": "code",
   "execution_count": 20,
   "id": "3ff94973-0564-43ad-893f-0a80632f3aa0",
   "metadata": {},
   "outputs": [],
   "source": [
    "#If...else statement"
   ]
  },
  {
   "cell_type": "code",
   "execution_count": 21,
   "id": "48b78b79-dd42-441c-b9b4-222ceee6175d",
   "metadata": {},
   "outputs": [],
   "source": [
    "#Ternary Operator"
   ]
  },
  {
   "cell_type": "code",
   "execution_count": 22,
   "id": "69ee4db9-9f35-4130-88d0-c31fb0aa23f1",
   "metadata": {},
   "outputs": [],
   "source": [
    "#for Loop with range"
   ]
  },
  {
   "cell_type": "code",
   "execution_count": 23,
   "id": "f0ca1cb2-ccf2-47f0-8004-503399890371",
   "metadata": {},
   "outputs": [],
   "source": [
    "#While"
   ]
  },
  {
   "cell_type": "code",
   "execution_count": 24,
   "id": "f3c9aa8f-cc29-4f20-a141-55d00aa79081",
   "metadata": {},
   "outputs": [],
   "source": [
    "#break"
   ]
  },
  {
   "cell_type": "code",
   "execution_count": 25,
   "id": "3684ced2-71e7-4b52-a424-fbebdd1c633f",
   "metadata": {},
   "outputs": [],
   "source": [
    "#continue"
   ]
  },
  {
   "cell_type": "code",
   "execution_count": 26,
   "id": "974c86bd-b750-48df-bf91-1cae1673bb43",
   "metadata": {},
   "outputs": [],
   "source": [
    "#pass"
   ]
  },
  {
   "cell_type": "code",
   "execution_count": 27,
   "id": "9089176d-322c-474c-93bd-718e57aef8db",
   "metadata": {},
   "outputs": [],
   "source": [
    "#Python Functions"
   ]
  },
  {
   "cell_type": "code",
   "execution_count": 28,
   "id": "bcd55f82-6631-4e2c-9b91-37630b3f5446",
   "metadata": {},
   "outputs": [],
   "source": [
    "#Default Paramenters"
   ]
  },
  {
   "cell_type": "code",
   "execution_count": 29,
   "id": "8dc1df86-345c-4dd6-9a8f-0662760d5407",
   "metadata": {},
   "outputs": [],
   "source": [
    "#Keyword Arguments"
   ]
  },
  {
   "cell_type": "code",
   "execution_count": 30,
   "id": "467e7adf-0a4f-41fa-8851-39fcc09dffed",
   "metadata": {},
   "outputs": [],
   "source": [
    "#Recursive Functions"
   ]
  },
  {
   "cell_type": "code",
   "execution_count": 31,
   "id": "7d76102e-e8cb-4002-bb26-168dc55bebeb",
   "metadata": {},
   "outputs": [],
   "source": [
    "#Lambda Expressions"
   ]
  },
  {
   "cell_type": "code",
   "execution_count": 32,
   "id": "9fb89efa-d168-4ae0-94fc-8924161c8330",
   "metadata": {},
   "outputs": [],
   "source": [
    "#Docstrings"
   ]
  },
  {
   "cell_type": "code",
   "execution_count": 33,
   "id": "12f456cf-7a0d-43f5-9f58-b9574cd94c03",
   "metadata": {},
   "outputs": [],
   "source": [
    "#Section 5"
   ]
  },
  {
   "cell_type": "code",
   "execution_count": 34,
   "id": "df6e850f-bcc3-4236-8582-2d0751c36bdb",
   "metadata": {},
   "outputs": [],
   "source": [
    "#list"
   ]
  },
  {
   "cell_type": "code",
   "execution_count": 35,
   "id": "5046b967-2da5-454b-b5f6-0ae7542e1b3f",
   "metadata": {},
   "outputs": [],
   "source": [
    "#Tuple"
   ]
  },
  {
   "cell_type": "code",
   "execution_count": 36,
   "id": "2253dbbc-600d-4d47-b1a6-bf5eb7485a4c",
   "metadata": {},
   "outputs": [],
   "source": [
    "#Sort a list in place"
   ]
  },
  {
   "cell_type": "code",
   "execution_count": 37,
   "id": "03e8cec7-c4e5-4346-a2b0-1a8d36a0d05f",
   "metadata": {},
   "outputs": [],
   "source": [
    "#Sort a list"
   ]
  },
  {
   "cell_type": "code",
   "execution_count": 38,
   "id": "11cfafc9-5071-4748-9ed0-e99f62c1e8f4",
   "metadata": {},
   "outputs": [],
   "source": [
    "#slice a list"
   ]
  },
  {
   "cell_type": "code",
   "execution_count": 39,
   "id": "cf85071d-b7de-4372-a698-613a229f4c27",
   "metadata": {},
   "outputs": [],
   "source": [
    "#unpack a list"
   ]
  },
  {
   "cell_type": "code",
   "execution_count": 40,
   "id": "1c0bfa13-cfc8-4123-bd94-89121671cbc1",
   "metadata": {},
   "outputs": [],
   "source": [
    "#Iterate over a list "
   ]
  },
  {
   "cell_type": "code",
   "execution_count": 41,
   "id": "ff6d4ba4-3e2b-4619-8c11-f6ca934b0367",
   "metadata": {},
   "outputs": [],
   "source": [
    "#Find the index of an element"
   ]
  },
  {
   "cell_type": "code",
   "execution_count": 42,
   "id": "0bfe920d-fd98-4cc2-8d58-5a02c1ef77b3",
   "metadata": {},
   "outputs": [],
   "source": [
    "#Iterables"
   ]
  },
  {
   "cell_type": "code",
   "execution_count": 43,
   "id": "e2b5a920-002b-49ad-b6ed-04b3e464bb5f",
   "metadata": {},
   "outputs": [],
   "source": [
    "#Transform list elements with map()"
   ]
  },
  {
   "cell_type": "code",
   "execution_count": 44,
   "id": "d9d96cdd-a45b-4416-90dc-40f809feb500",
   "metadata": {},
   "outputs": [],
   "source": [
    "#Filter list elements with filter()"
   ]
  },
  {
   "cell_type": "code",
   "execution_count": 45,
   "id": "6359aa95-eda1-4c6b-b8f4-dfd637e8d87e",
   "metadata": {},
   "outputs": [],
   "source": [
    "#Reduce list elements into a value with reduce()"
   ]
  },
  {
   "cell_type": "code",
   "execution_count": 46,
   "id": "566fb4f1-5801-4c87-90db-6cb6102e4f5f",
   "metadata": {},
   "outputs": [],
   "source": [
    "#list conprehensions"
   ]
  },
  {
   "cell_type": "code",
   "execution_count": 47,
   "id": "d5e02eae-bb54-4df4-b6c0-d2c24997314a",
   "metadata": {},
   "outputs": [],
   "source": [
    "#Section 6:"
   ]
  },
  {
   "cell_type": "code",
   "execution_count": 48,
   "id": "492c4be1-cc01-4d5f-a36b-b878d86497fb",
   "metadata": {},
   "outputs": [],
   "source": [
    "#Dictionary"
   ]
  },
  {
   "cell_type": "code",
   "execution_count": 49,
   "id": "0ace14ca-fb35-444d-9422-d9c8ca0b7767",
   "metadata": {},
   "outputs": [],
   "source": [
    "#Dictionary comprehension"
   ]
  },
  {
   "cell_type": "code",
   "execution_count": 50,
   "id": "61378922-9c6d-4cf9-ae31-a95c374e37a8",
   "metadata": {},
   "outputs": [],
   "source": [
    "#Section7:"
   ]
  },
  {
   "cell_type": "code",
   "execution_count": 51,
   "id": "2c51db4b-8645-431e-bf3a-dafd5d9c3238",
   "metadata": {},
   "outputs": [],
   "source": [
    "#Set"
   ]
  },
  {
   "cell_type": "code",
   "execution_count": 52,
   "id": "7a4d7bc5-b735-4999-adea-a9f81afbb44c",
   "metadata": {},
   "outputs": [],
   "source": [
    "#Set comprehension"
   ]
  },
  {
   "cell_type": "code",
   "execution_count": 53,
   "id": "88dac99f-9f60-4a10-9587-fc825edb11a5",
   "metadata": {},
   "outputs": [],
   "source": [
    "#Union of Sets"
   ]
  },
  {
   "cell_type": "code",
   "execution_count": 54,
   "id": "5933a5b1-0c1a-45fa-8c48-b5882cb5cca2",
   "metadata": {},
   "outputs": [],
   "source": [
    "#Intersection of Sets"
   ]
  },
  {
   "cell_type": "code",
   "execution_count": 55,
   "id": "a0497da3-0fa6-4c96-b1bf-79e016571b00",
   "metadata": {},
   "outputs": [],
   "source": [
    "#Difference of sets"
   ]
  },
  {
   "cell_type": "code",
   "execution_count": 56,
   "id": "411e7fbc-1b94-49e7-9927-086e8d3e90e6",
   "metadata": {},
   "outputs": [],
   "source": [
    "#Symmetric Difference of sets"
   ]
  },
  {
   "cell_type": "code",
   "execution_count": 57,
   "id": "5c748cfe-0c20-44bd-a268-0199a7e60f95",
   "metadata": {},
   "outputs": [],
   "source": [
    "#Subset"
   ]
  },
  {
   "cell_type": "code",
   "execution_count": 58,
   "id": "51907255-fb92-4d2e-9533-cdf806f9bd21",
   "metadata": {},
   "outputs": [],
   "source": [
    "#Superset"
   ]
  },
  {
   "cell_type": "code",
   "execution_count": 59,
   "id": "c69deb0b-2dc3-4259-a441-0f79d8bbd075",
   "metadata": {},
   "outputs": [],
   "source": [
    "#Disjoint Sets"
   ]
  },
  {
   "cell_type": "code",
   "execution_count": 60,
   "id": "73765294-b79b-49ef-b36f-b1d755beb6b3",
   "metadata": {},
   "outputs": [],
   "source": [
    "#Section 8:"
   ]
  },
  {
   "cell_type": "code",
   "execution_count": 61,
   "id": "daa4c56f-efa1-4ab5-b634-9eb67ea967d2",
   "metadata": {},
   "outputs": [],
   "source": [
    "#try...except"
   ]
  },
  {
   "cell_type": "code",
   "execution_count": 62,
   "id": "cbb9fad5-f638-4b90-9b59-76f781c2f4b5",
   "metadata": {},
   "outputs": [],
   "source": [
    "#try...except...finally"
   ]
  },
  {
   "cell_type": "code",
   "execution_count": 63,
   "id": "c5d18511-c396-43d0-9743-6bfc1fa6008a",
   "metadata": {},
   "outputs": [],
   "source": [
    "#try...except...else"
   ]
  },
  {
   "cell_type": "code",
   "execution_count": 64,
   "id": "52b8c2e3-25fb-4651-8f20-67210b1fa47b",
   "metadata": {},
   "outputs": [],
   "source": [
    "#Section 9:"
   ]
  },
  {
   "cell_type": "code",
   "execution_count": 65,
   "id": "2d272347-57b2-42a4-a318-690b86fef8c7",
   "metadata": {},
   "outputs": [],
   "source": [
    "#for...else"
   ]
  },
  {
   "cell_type": "code",
   "execution_count": 66,
   "id": "c2bd3aad-4b0a-4bc2-8dd8-d1dc549a2743",
   "metadata": {},
   "outputs": [],
   "source": [
    "#while...else"
   ]
  },
  {
   "cell_type": "code",
   "execution_count": 67,
   "id": "40cc4c58-80d7-4d90-8f56-8d207e0ee188",
   "metadata": {},
   "outputs": [],
   "source": [
    "#do...while"
   ]
  },
  {
   "cell_type": "code",
   "execution_count": 68,
   "id": "728278a4-6f73-44b8-8d8e-1535005cb51b",
   "metadata": {},
   "outputs": [],
   "source": [
    "#Section 10:"
   ]
  },
  {
   "cell_type": "code",
   "execution_count": 69,
   "id": "3a388135-e979-4013-8658-9d740218f4e0",
   "metadata": {},
   "outputs": [],
   "source": [
    "#Unpacking tuples"
   ]
  },
  {
   "cell_type": "code",
   "execution_count": 70,
   "id": "62b28d37-2be1-4bb4-994c-05d52f23d4a4",
   "metadata": {},
   "outputs": [],
   "source": [
    "#parameters"
   ]
  },
  {
   "cell_type": "code",
   "execution_count": 71,
   "id": "83edc11e-d91d-418d-b1d3-8ae4dd027e25",
   "metadata": {},
   "outputs": [],
   "source": [
    "#parameters"
   ]
  },
  {
   "cell_type": "code",
   "execution_count": 72,
   "id": "71cfc877-1a6c-43e6-b490-5d1d59dc88b9",
   "metadata": {},
   "outputs": [],
   "source": [
    "#partial functions"
   ]
  },
  {
   "cell_type": "code",
   "execution_count": 73,
   "id": "43bd6f3e-d5a4-4a68-a2ee-be73d9971a7e",
   "metadata": {},
   "outputs": [],
   "source": [
    "#type hints"
   ]
  },
  {
   "cell_type": "code",
   "execution_count": null,
   "id": "06c26c65-8676-444b-b037-a8b648e8b8bc",
   "metadata": {},
   "outputs": [],
   "source": []
  }
 ],
 "metadata": {
  "kernelspec": {
   "display_name": "Python 3 (ipykernel)",
   "language": "python",
   "name": "python3"
  },
  "language_info": {
   "codemirror_mode": {
    "name": "ipython",
    "version": 3
   },
   "file_extension": ".py",
   "mimetype": "text/x-python",
   "name": "python",
   "nbconvert_exporter": "python",
   "pygments_lexer": "ipython3",
   "version": "3.12.4"
  }
 },
 "nbformat": 4,
 "nbformat_minor": 5
}
